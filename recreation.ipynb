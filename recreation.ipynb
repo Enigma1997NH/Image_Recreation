{
 "cells": [
  {
   "cell_type": "markdown",
   "metadata": {},
   "source": [
    "<h3>Image InPainting"
   ]
  },
  {
   "cell_type": "code",
   "execution_count": 1,
   "metadata": {},
   "outputs": [],
   "source": [
    "import numpy as np\n",
    "import cv2 as cv\n",
    "import sys"
   ]
  },
  {
   "cell_type": "code",
   "execution_count": 2,
   "metadata": {},
   "outputs": [],
   "source": [
    "class Sketcher:\n",
    "    def __init__(self, windowname, dests, colors_func):\n",
    "        self.prev_pt = None\n",
    "        self.windowname = windowname\n",
    "        self.dests = dests\n",
    "        self.colors_func = colors_func\n",
    "        self.dirty = False\n",
    "        self.show()\n",
    "        cv.setMouseCallback(self.windowname, self.on_mouse)\n",
    "    def show(self):\n",
    "        cv.imshow(self.windowname, self.dests[0])\n",
    "        cv.imshow(self.windowname+\": Mask\",self.dests[1])\n",
    "    def on_mouse(self, event, x, y, flags, param):\n",
    "        pt = (x,y)\n",
    "        if event == cv.EVENT_LBUTTONDOWN:\n",
    "            self.prev_pt = pt\n",
    "        elif event == cv.EVENT_LBUTTONUP:\n",
    "            self.prev_pt = None\n",
    "        if self.prev_pt and flags & cv.EVENT_FLAG_LBUTTON:\n",
    "            for dst, color in zip(self.dests, self.colors_func()):\n",
    "                cv.line(dst,self.prev_pt, pt, color, 2)\n",
    "            self.dirty = True\n",
    "            self.prev_pt = pt\n",
    "            self.show()\n"
   ]
  },
  {
   "cell_type": "code",
   "execution_count": 9,
   "metadata": {},
   "outputs": [],
   "source": [
    "def main():\n",
    "    print(\"IMAGE Inpaint DEEP LEARNING\")\n",
    "    print(\"Keys: \")\n",
    "    print(\"Press f for FMM\")\n",
    "    print(\"Press n for NS technique\")\n",
    "    print(\"Press r for reset the inpaint mask\")\n",
    "    print(\"ESC - exit\")\n",
    "    \n",
    "    img = cv.imread(\"tree.webp\", cv.IMREAD_COLOR)\n",
    "    \n",
    "    if img is None:\n",
    "        print('Failed to load image file: {}'.format(args[\"image\"]))\n",
    "        return\n",
    "    img_mask = img.copy()\n",
    "    inpaintMask = np.zeros(img.shape[:2], np.uint8)\n",
    "\n",
    "    sketch = Sketcher('image',[img_mask, inpaintMask], lambda :((255,255,255), 255))\n",
    "    \n",
    "    while True:\n",
    "        ch = cv.waitKey(0)\n",
    "        \n",
    "        if ch == 27:\n",
    "            break\n",
    "        if ch == ord('f'):    # ch == ord('f')\n",
    "            res = cv.inpaint(src=img_mask, inpaintMask=inpaintMask, inpaintRadius=2, flags=cv.INPAINT_TELEA)\n",
    "            cv.imshow(\"Inpaint output using FMM\",res)\n",
    "        if ch == ord('n'):\n",
    "            res = cv.inpaint(src=img_mask, inpaintMask=inpaintMask, inpaintRadius=2, flags=cv.INPAINT_NS)\n",
    "            cv.imshow(\"Inpaint output using NS\",res)\n",
    "        if ch == ord('r'):\n",
    "            img_mask[:] = img\n",
    "            inpaintMask[:]=0\n",
    "            sketch.show()\n",
    "    print(\"Completed\")"
   ]
  },
  {
   "cell_type": "code",
   "execution_count": 10,
   "metadata": {},
   "outputs": [
    {
     "name": "stdout",
     "output_type": "stream",
     "text": [
      "IMAGE Inpaint DEEP LEARNING\n",
      "Keys: \n",
      "Press f for FMM\n",
      "Press n for NS technique\n",
      "Press r for reset the inpaint mask\n",
      "ESC - exit\n",
      "Completed\n"
     ]
    }
   ],
   "source": [
    "if __name__ == '__main__':\n",
    "    main()\n",
    "    cv.destroyAllWindows()"
   ]
  },
  {
   "cell_type": "code",
   "execution_count": null,
   "metadata": {},
   "outputs": [],
   "source": []
  }
 ],
 "metadata": {
  "kernelspec": {
   "display_name": "Python 3",
   "language": "python",
   "name": "python3"
  },
  "language_info": {
   "codemirror_mode": {
    "name": "ipython",
    "version": 3
   },
   "file_extension": ".py",
   "mimetype": "text/x-python",
   "name": "python",
   "nbconvert_exporter": "python",
   "pygments_lexer": "ipython3",
   "version": "3.7.3"
  }
 },
 "nbformat": 4,
 "nbformat_minor": 2
}
